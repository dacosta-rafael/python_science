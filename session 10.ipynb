{
 "metadata": {
  "name": "",
  "signature": "sha256:293dc72dba83ea82736f224a8a012eb625054ca1dc1c9dfdcf6e7942d3783a60"
 },
 "nbformat": 3,
 "nbformat_minor": 0,
 "worksheets": [
  {
   "cells": [
    {
     "cell_type": "code",
     "collapsed": false,
     "input": [
      "# Import the basics\n",
      "import numpy as np\n",
      "import pandas as pd\n",
      "import matplotlib.pyplot as plt #May be necessary to use \"%pylab inline\" if graphs do not show in line.\n",
      "import statsmodels.api as sm\n",
      "\n",
      "# Pickling\n",
      "import pickle\n",
      "\n",
      "# Import the SK Learn Libraries\n",
      "from sklearn import linear_model, datasets\n",
      "#ogmodel = pickle.load(open(\"affairs.pkl\",\"rb\"))\n",
      "data = sm.datasets.fair.load_pandas().data\n",
      "#data.head(2)\n",
      "data.head()\n",
      "#print(sm.datasets.fair.NOTE)"
     ],
     "language": "python",
     "metadata": {},
     "outputs": [
      {
       "html": [
        "<div style=\"max-height:1000px;max-width:1500px;overflow:auto;\">\n",
        "<table border=\"1\" class=\"dataframe\">\n",
        "  <thead>\n",
        "    <tr style=\"text-align: right;\">\n",
        "      <th></th>\n",
        "      <th>rate_marriage</th>\n",
        "      <th>age</th>\n",
        "      <th>yrs_married</th>\n",
        "      <th>children</th>\n",
        "      <th>religious</th>\n",
        "      <th>educ</th>\n",
        "      <th>occupation</th>\n",
        "      <th>occupation_husb</th>\n",
        "      <th>affairs</th>\n",
        "    </tr>\n",
        "  </thead>\n",
        "  <tbody>\n",
        "    <tr>\n",
        "      <th>0</th>\n",
        "      <td> 3</td>\n",
        "      <td> 32</td>\n",
        "      <td>  9.0</td>\n",
        "      <td> 3</td>\n",
        "      <td> 3</td>\n",
        "      <td> 17</td>\n",
        "      <td> 2</td>\n",
        "      <td> 5</td>\n",
        "      <td> 0.111111</td>\n",
        "    </tr>\n",
        "    <tr>\n",
        "      <th>1</th>\n",
        "      <td> 3</td>\n",
        "      <td> 27</td>\n",
        "      <td> 13.0</td>\n",
        "      <td> 3</td>\n",
        "      <td> 1</td>\n",
        "      <td> 14</td>\n",
        "      <td> 3</td>\n",
        "      <td> 4</td>\n",
        "      <td> 3.230769</td>\n",
        "    </tr>\n",
        "    <tr>\n",
        "      <th>2</th>\n",
        "      <td> 4</td>\n",
        "      <td> 22</td>\n",
        "      <td>  2.5</td>\n",
        "      <td> 0</td>\n",
        "      <td> 1</td>\n",
        "      <td> 16</td>\n",
        "      <td> 3</td>\n",
        "      <td> 5</td>\n",
        "      <td> 1.400000</td>\n",
        "    </tr>\n",
        "    <tr>\n",
        "      <th>3</th>\n",
        "      <td> 4</td>\n",
        "      <td> 37</td>\n",
        "      <td> 16.5</td>\n",
        "      <td> 4</td>\n",
        "      <td> 3</td>\n",
        "      <td> 16</td>\n",
        "      <td> 5</td>\n",
        "      <td> 5</td>\n",
        "      <td> 0.727273</td>\n",
        "    </tr>\n",
        "    <tr>\n",
        "      <th>4</th>\n",
        "      <td> 5</td>\n",
        "      <td> 27</td>\n",
        "      <td>  9.0</td>\n",
        "      <td> 1</td>\n",
        "      <td> 1</td>\n",
        "      <td> 14</td>\n",
        "      <td> 3</td>\n",
        "      <td> 4</td>\n",
        "      <td> 4.666666</td>\n",
        "    </tr>\n",
        "  </tbody>\n",
        "</table>\n",
        "</div>"
       ],
       "metadata": {},
       "output_type": "pyout",
       "prompt_number": 2,
       "text": [
        "   rate_marriage  age  yrs_married  children  religious  educ  occupation  \\\n",
        "0              3   32          9.0         3          3    17           2   \n",
        "1              3   27         13.0         3          1    14           3   \n",
        "2              4   22          2.5         0          1    16           3   \n",
        "3              4   37         16.5         4          3    16           5   \n",
        "4              5   27          9.0         1          1    14           3   \n",
        "\n",
        "   occupation_husb   affairs  \n",
        "0                5  0.111111  \n",
        "1                4  3.230769  \n",
        "2                5  1.400000  \n",
        "3                5  0.727273  \n",
        "4                4  4.666666  "
       ]
      }
     ],
     "prompt_number": 2
    },
    {
     "cell_type": "code",
     "collapsed": false,
     "input": [
      "\n",
      "data['affair'] = (data.affairs > 0).astype(int)\n",
      "\n",
      "\n",
      "X_Variables = ['educ','occupation']\n",
      "X = data[X_Variables]\n",
      "\n",
      "\n",
      "X = X.values\n",
      "y = data['affair'].values\n",
      "clf = linear_model.LogisticRegression()\n",
      "model = clf.fit(X,y)\n",
      "\n",
      "\n",
      "#model.score(X,y)\n",
      "model.predict_proba([9,2])\n",
      "\n",
      "\n",
      "\n",
      "\n"
     ],
     "language": "python",
     "metadata": {},
     "outputs": [
      {
       "metadata": {},
       "output_type": "pyout",
       "prompt_number": 24,
       "text": [
        "array([[ 0.60832132,  0.39167868]])"
       ]
      }
     ],
     "prompt_number": 24
    },
    {
     "cell_type": "code",
     "collapsed": false,
     "input": [
      "#sklearn needs a dimension addded to the dimension , for the x valu\n",
      "#steps: model , fit xy, score\n",
      "#after getting xy modenl\n",
      "#pickel dump"
     ],
     "language": "python",
     "metadata": {},
     "outputs": [],
     "prompt_number": 25
    },
    {
     "cell_type": "code",
     "collapsed": false,
     "input": [
      "clf = linear_model.LogisticRegression()"
     ],
     "language": "python",
     "metadata": {},
     "outputs": []
    },
    {
     "cell_type": "code",
     "collapsed": false,
     "input": [
      "#coef off, standardize the features\n",
      "#ordinal number can be spilit to a dummy variable"
     ],
     "language": "python",
     "metadata": {},
     "outputs": []
    }
   ],
   "metadata": {}
  }
 ]
}