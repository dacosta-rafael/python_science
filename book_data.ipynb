{
 "metadata": {
  "name": "",
  "signature": "sha256:c1a26798952cb366e4a9114b8ace1a5edccf8835a5fae136c7f5c5e56e6af707"
 },
 "nbformat": 3,
 "nbformat_minor": 0,
 "worksheets": [
  {
   "cells": [
    {
     "cell_type": "code",
     "collapsed": false,
     "input": [
      "import numpy as np\n",
      "import pandas as pd\n",
      "from pandas.tools.plotting import scatter_matrix\n",
      "from matplotlib import pyplot as plt\n",
      "import statsmodels.api as sm\n",
      "from sklearn import linear_model, datasets\n",
      "#a cron gathers the dataset via php. data cleaning occurs at this point as well. \n",
      "#will need to create a priceusa scale for y-axis\n",
      "url = \"http://collectivedashboard.com/file.csv\"\n",
      "data = pd.read_csv(url, header=0, na_values='?')\n",
      "#data.head()\n",
      "\n",
      "#data.describe()\n",
      "#print scatter_matrix(data, figsize=[10, 10], alpha=0.2, diagonal='kde')\n",
      "data.info()\n",
      "\n",
      "\n",
      "data.ean.map(str)\n",
      "\n",
      "\n"
     ],
     "language": "python",
     "metadata": {},
     "outputs": [
      {
       "output_type": "stream",
       "stream": "stdout",
       "text": [
        "<class 'pandas.core.frame.DataFrame'>\n",
        "Int64Index: 2000 entries, 0 to 1999\n",
        "Data columns (total 8 columns):\n",
        "ean                            2000 non-null int64\n",
        "titleweb                       2000 non-null object\n",
        "priceusa                       2000 non-null int64\n",
        "onsaledate                     2000 non-null object\n",
        "subjectcategorydescription1    2000 non-null object\n",
        "formatname                     2000 non-null object\n",
        "sold_52wk_1year                2000 non-null int64\n",
        "rating_counts                  2000 non-null int64\n",
        "dtypes: int64(4), object(4)"
       ]
      }
     ],
     "prompt_number": 42
    },
    {
     "cell_type": "code",
     "collapsed": false,
     "input": [
      "#data['priceusa'] = (data.priceusa > 0).astype(int)\n",
      "X_Variables = ['rating_counts','sold_52wk_1year']\n",
      "X = data[X_Variables]\n",
      "X = X.values\n",
      "#priceusa. 0 = <$10; 1 = >$10\n",
      "y = data['priceusa'].values\n",
      "clf = linear_model.LogisticRegression()\n",
      "model = clf.fit(X,y)\n",
      "#model.score(X,y)\n",
      "print model.predict_proba([100,60000])\n",
      "print model.predict([100,60000])"
     ],
     "language": "python",
     "metadata": {},
     "outputs": [
      {
       "output_type": "stream",
       "stream": "stdout",
       "text": [
        "[[ 0.0043115  0.9956885]]\n",
        "[1]\n"
       ]
      }
     ],
     "prompt_number": 43
    },
    {
     "cell_type": "code",
     "collapsed": false,
     "input": [],
     "language": "python",
     "metadata": {},
     "outputs": []
    }
   ],
   "metadata": {}
  }
 ]
}