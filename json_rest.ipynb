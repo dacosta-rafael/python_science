{
 "metadata": {
  "name": "",
  "signature": "sha256:64c70d4ab6cd03c30b4bdf3ce19a59ef88030b21e19eaa4ba6cf60b23fdc4fd5"
 },
 "nbformat": 3,
 "nbformat_minor": 0,
 "worksheets": [
  {
   "cells": [
    {
     "cell_type": "code",
     "collapsed": false,
     "input": [
      "\n",
      "\n",
      "import json\n",
      "\n",
      "#pets = json.load(open('petfinder.json'))\n",
      "pets = json.load(open('http://api.petfinder.com/pet.find?key=98719f8ded45b41f3153f5736d55d162&location=10003&format=json'))\n",
      "\n",
      "\n",
      "print type(pets)\n",
      "print pets.keys()\n",
      "print type(pets['results'])\n",
      "print len(pets['results'])\n",
      "\n",
      "def pets_to_df(path):\n",
      "    import json\n",
      "    import pandas as pd\n",
      "    pets = pd.DataFrame()\n",
      "    pets_json = json.load(open(path))\n",
      "    pet_results = pets_json['results']\n",
      "    pets = pd.DataFrame(pet_results)\n",
      "    return pets\n",
      "pets_df = pets_to_df(path)\n",
      "print pets_df\n",
      "print pets_df.describe()\n",
      "\n"
     ],
     "language": "python",
     "metadata": {},
     "outputs": [
      {
       "ename": "IOError",
       "evalue": "[Errno 2] No such file or directory: 'http://api.petfinder.com/pet.find?key=98719f8ded45b41f3153f5736d55d162&location=10003&format=json'",
       "output_type": "pyerr",
       "traceback": [
        "\u001b[1;31m---------------------------------------------------------------------------\u001b[0m\n\u001b[1;31mIOError\u001b[0m                                   Traceback (most recent call last)",
        "\u001b[1;32m<ipython-input-2-86a87f38e666>\u001b[0m in \u001b[0;36m<module>\u001b[1;34m()\u001b[0m\n\u001b[0;32m      4\u001b[0m \u001b[1;33m\u001b[0m\u001b[0m\n\u001b[0;32m      5\u001b[0m \u001b[1;31m#pets = json.load(open('petfinder.json'))\u001b[0m\u001b[1;33m\u001b[0m\u001b[1;33m\u001b[0m\u001b[0m\n\u001b[1;32m----> 6\u001b[1;33m \u001b[0mpets\u001b[0m \u001b[1;33m=\u001b[0m \u001b[0mjson\u001b[0m\u001b[1;33m.\u001b[0m\u001b[0mload\u001b[0m\u001b[1;33m(\u001b[0m\u001b[0mopen\u001b[0m\u001b[1;33m(\u001b[0m\u001b[1;34m'http://api.petfinder.com/pet.find?key=98719f8ded45b41f3153f5736d55d162&location=10003&format=json'\u001b[0m\u001b[1;33m)\u001b[0m\u001b[1;33m)\u001b[0m\u001b[1;33m\u001b[0m\u001b[0m\n\u001b[0m\u001b[0;32m      7\u001b[0m \u001b[1;33m\u001b[0m\u001b[0m\n\u001b[0;32m      8\u001b[0m \u001b[1;33m\u001b[0m\u001b[0m\n",
        "\u001b[1;31mIOError\u001b[0m: [Errno 2] No such file or directory: 'http://api.petfinder.com/pet.find?key=98719f8ded45b41f3153f5736d55d162&location=10003&format=json'"
       ]
      }
     ],
     "prompt_number": 2
    },
    {
     "cell_type": "code",
     "collapsed": false,
     "input": [],
     "language": "python",
     "metadata": {},
     "outputs": []
    }
   ],
   "metadata": {}
  }
 ]
}