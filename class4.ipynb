{
 "metadata": {
  "name": "",
  "signature": "sha256:58d58481366bf7b8b23d7a6d681e27a43065752c92ff8701d175c5bb5f96bd04"
 },
 "nbformat": 3,
 "nbformat_minor": 0,
 "worksheets": [
  {
   "cells": [
    {
     "cell_type": "code",
     "collapsed": false,
     "input": [
      "import numpy\n",
      "import pandas\n",
      "\n",
      "header_row = ['age', 'sex', 'cp', 'trestbps', 'chol', 'fbs', 'restecg', 'thalach', 'exang', 'oldpeak', 'slope', 'ca', 'thal', 'num',]\n",
      "url = 'http://archive.ics.uci.edu/ml/machine-learning-databases/heart-disease/processed.cleveland.data'\n",
      "heart_data = pandas.read_csv(url, header=0, na_values='?')\n",
      "heart_data.columns = header_row"
     ],
     "language": "python",
     "metadata": {},
     "outputs": [],
     "prompt_number": 1
    },
    {
     "cell_type": "code",
     "collapsed": false,
     "input": [],
     "language": "python",
     "metadata": {},
     "outputs": [],
     "prompt_number": 1
    },
    {
     "cell_type": "code",
     "collapsed": false,
     "input": [
      "\n",
      "\n",
      "#print len(heart_data)\n",
      "#print len(heart_data[heart_data['sex'] == 0])\n",
      "#print heart_data['sex'].value_counts()\n",
      "\n",
      "\n",
      "\n",
      "#missing value\n",
      "heart_data['thal'].ffill()\n",
      "heart_data['thal'].bfill()\n",
      "\n"
     ],
     "language": "python",
     "metadata": {},
     "outputs": [
      {
       "metadata": {},
       "output_type": "pyout",
       "prompt_number": 14,
       "text": [
        "0     3\n",
        "1     7\n",
        "2     3\n",
        "3     3\n",
        "4     3\n",
        "5     3\n",
        "6     3\n",
        "7     7\n",
        "8     7\n",
        "9     6\n",
        "10    3\n",
        "11    6\n",
        "12    7\n",
        "13    7\n",
        "14    3\n",
        "...\n",
        "287    7\n",
        "288    3\n",
        "289    7\n",
        "290    3\n",
        "291    6\n",
        "292    7\n",
        "293    3\n",
        "294    3\n",
        "295    6\n",
        "296    7\n",
        "297    7\n",
        "298    7\n",
        "299    7\n",
        "300    3\n",
        "301    3\n",
        "Name: thal, Length: 302, dtype: float64"
       ]
      }
     ],
     "prompt_number": 14
    },
    {
     "cell_type": "code",
     "collapsed": false,
     "input": [],
     "language": "python",
     "metadata": {},
     "outputs": []
    }
   ],
   "metadata": {}
  }
 ]
}